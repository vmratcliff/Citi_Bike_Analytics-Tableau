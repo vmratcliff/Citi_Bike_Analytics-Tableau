{
 "cells": [
  {
   "cell_type": "markdown",
   "metadata": {},
   "source": [
    "# Citi Bike Analysis 2018 & 2019\n",
    "\n",
    "### Overall Analysis\n",
    "* 2019 saw a 14.43% increase in Bike usage from the previous year. \n",
    "* The percentage of riders increase between the months of March-August, with August being the peak month.\n",
    "* The median trip duration is 5.67 minutes. \n",
    "* The top station is Grove St Path with a total of 87,593 trips started in 2018 and 2019. \n",
    "* The bottom station is Columbia Park which only had 14 trips started at this location in 2018 and 2019. \n",
    "\n",
    "### User Type Analysis\n",
    "* Citi Bike has a larger portion of Subscribers versus Customers. 91% of users are Subscribers while 9% are Customers. \n",
    "* There was a 9.1% increase in Subsribers in 2019 and a 94.1% increase in Customers still maintaining a higher percentage of Subscribers. \n",
    "* Q1 in 2019 saw the highest increase in Customers & Subscribers with a 137.5% increase for Customers and 35.9% for Subscribers. \n",
    "* August and September are the highest months of bike usage. \n",
    "\n",
    "### Peak Hours Analysis\n",
    "* The most popular start times are 8am and 6pm and the most popular weekday is Tuesday followed by Wednesday. \n",
    "* The popular times are during commute hours between 6am-9am and 4pm-7pm. \n",
    "* The summer months of June, July & August have the highest numbers of bike usage due to the warmer weather. "
   ]
  },
  {
   "cell_type": "code",
   "execution_count": null,
   "metadata": {},
   "outputs": [],
   "source": []
  }
 ],
 "metadata": {
  "kernelspec": {
   "display_name": "Python 3",
   "language": "python",
   "name": "python3"
  },
  "language_info": {
   "codemirror_mode": {
    "name": "ipython",
    "version": 3
   },
   "file_extension": ".py",
   "mimetype": "text/x-python",
   "name": "python",
   "nbconvert_exporter": "python",
   "pygments_lexer": "ipython3",
   "version": "3.7.4"
  }
 },
 "nbformat": 4,
 "nbformat_minor": 2
}
